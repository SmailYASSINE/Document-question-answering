{
 "cells": [
  {
   "cell_type": "code",
   "execution_count": 2,
   "id": "0de2a0e1",
   "metadata": {},
   "outputs": [
    {
     "ename": "ModuleNotFoundError",
     "evalue": "No module named 'transformers'",
     "output_type": "error",
     "traceback": [
      "\u001b[1;31m---------------------------------------------------------------------------\u001b[0m",
      "\u001b[1;31mModuleNotFoundError\u001b[0m                       Traceback (most recent call last)",
      "\u001b[1;32mc:\\Users\\um6p\\Desktop\\project\\Question-Generation-and-Long-Form-Question-Answering\\End2End.ipynb Cell 1\u001b[0m line \u001b[0;36m<cell line: 2>\u001b[1;34m()\u001b[0m\n\u001b[0;32m      <a href='vscode-notebook-cell:/c%3A/Users/um6p/Desktop/project/Question-Generation-and-Long-Form-Question-Answering/End2End.ipynb#W0sZmlsZQ%3D%3D?line=0'>1</a>\u001b[0m \u001b[39m# ! pip install transformers\u001b[39;00m\n\u001b[1;32m----> <a href='vscode-notebook-cell:/c%3A/Users/um6p/Desktop/project/Question-Generation-and-Long-Form-Question-Answering/End2End.ipynb#W0sZmlsZQ%3D%3D?line=1'>2</a>\u001b[0m \u001b[39mimport\u001b[39;00m \u001b[39mtransformers\u001b[39;00m\n\u001b[0;32m      <a href='vscode-notebook-cell:/c%3A/Users/um6p/Desktop/project/Question-Generation-and-Long-Form-Question-Answering/End2End.ipynb#W0sZmlsZQ%3D%3D?line=2'>3</a>\u001b[0m \u001b[39mprint\u001b[39m(transformers\u001b[39m.\u001b[39m__version__)\n",
      "\u001b[1;31mModuleNotFoundError\u001b[0m: No module named 'transformers'"
     ]
    }
   ],
   "source": [
    "# ! pip install transformers\n",
    "import transformers\n",
    "print(transformers.__version__)"
   ]
  },
  {
   "cell_type": "code",
   "execution_count": 11,
   "id": "d14d509c",
   "metadata": {},
   "outputs": [],
   "source": [
    "text = \"Python is an interpreted, high-level, general-purpose programming language. Created by Guido van Rossum \\\n",
    "and first released in 1991, Python's design philosophy emphasizes code \\\n",
    "readability with its notable use of significant whitespace.\"\n",
    "\n",
    "text2 = \"Gravity (from Latin gravitas, meaning 'weight'), or gravitation, is a natural phenomenon by which all \\\n",
    "things with mass or energy—including planets, stars, galaxies, and even light—are brought toward (or gravitate toward) \\\n",
    "one another. On Earth, gravity gives weight to physical objects, and the Moon's gravity causes the ocean tides. \\\n",
    "The gravitational attraction of the original gaseous matter present in the Universe caused it to begin coalescing \\\n",
    "and forming stars and caused the stars to group together into galaxies, so gravity is responsible for many of \\\n",
    "the large-scale structures in the Universe. Gravity has an infinite range, although its effects become increasingly \\\n",
    "weaker as objects get further away\"\n",
    "\n",
    "text3 = \"42 is the answer to life, universe and everything.\"\n",
    "\n",
    "text4 = \"Forrest Gump is a 1994 American comedy-drama film directed by Robert Zemeckis and written by Eric Roth. \\\n",
    "It is based on the 1986 novel of the same name by Winston Groom and stars Tom Hanks, Robin Wright, Gary Sinise, \\\n",
    "Mykelti Williamson and Sally Field. The story depicts several decades in the life of Forrest Gump (Hanks), \\\n",
    "a slow-witted but kind-hearted man from Alabama who witnesses and unwittingly influences several defining \\\n",
    "historical events in the 20th century United States. The film differs substantially from the novel.\""
   ]
  },
  {
   "cell_type": "code",
   "execution_count": 15,
   "id": "10088042",
   "metadata": {},
   "outputs": [],
   "source": [
    "from transformers import DPRContextEncoder, DPRContextEncoderTokenizer,DPRQuestionEncoder, AutoTokenizer"
   ]
  },
  {
   "cell_type": "code",
   "execution_count": 19,
   "id": "609aef77",
   "metadata": {},
   "outputs": [],
   "source": [
    "model = DPRQuestionEncoder.from_pretrained(\"vblagoje/dpr-question_encoder-single-lfqa-wiki\")\n",
    "tokenizer = AutoTokenizer.from_pretrained(\"vblagoje/dpr-question_encoder-single-lfqa-wiki\")\n",
    "\n",
    "input_ids = tokenizer(\"Why do airplanes leave contrails in the sky?\", return_tensors=\"pt\")[\"input_ids\"]\n",
    "embeddings = model(input_ids)"
   ]
  },
  {
   "cell_type": "code",
   "execution_count": 2,
   "id": "ddd0e35c",
   "metadata": {},
   "outputs": [],
   "source": [
    "#from collections.abc import Iterable\n",
    "#! pip install farm-haystack[pinecone]"
   ]
  },
  {
   "cell_type": "code",
   "execution_count": 3,
   "id": "da88987e",
   "metadata": {},
   "outputs": [],
   "source": [
    "#QG\n",
    "from pipelines import pipeline\n",
    "#PDF\n",
    "# from PyPDF2 import PdfReader\n",
    "# #torch\n",
    "# import torch\n",
    "# import pickle"
   ]
  },
  {
   "cell_type": "code",
   "execution_count": 26,
   "id": "88694fa3",
   "metadata": {},
   "outputs": [],
   "source": [
    "# #Document store\n",
    "# from haystack.document_stores import PineconeDocumentStore\n",
    "from haystack import Document\n",
    "# from haystack.utils import print_answers"
   ]
  },
  {
   "cell_type": "markdown",
   "id": "d848e649",
   "metadata": {},
   "source": [
    "## QA pipline"
   ]
  },
  {
   "cell_type": "code",
   "execution_count": 5,
   "id": "92129e10",
   "metadata": {},
   "outputs": [],
   "source": [
    "# import pinecone\n",
    "\n",
    "# pinecone.init(api_key=\"dcb09f17-2a00-4e05-840f-eb7636bc7320\", environment=\"us-east1-gcp\")"
   ]
  },
  {
   "cell_type": "code",
   "execution_count": 6,
   "id": "d68d6081",
   "metadata": {
    "scrolled": false
   },
   "outputs": [],
   "source": [
    "# from haystack.document_stores import PineconeDocumentStore\n",
    "\n",
    "# document_store = PineconeDocumentStore(\n",
    "#     api_key='dcb09f17-2a00-4e05-840f-eb7636bc7320',\n",
    "#     index='smail',\n",
    "#     similarity=\"cosine\",\n",
    "#     embedding_dim=768,\n",
    "#     environment=\"us-east1-gcp\"\n",
    "\n",
    "\n",
    "    \n",
    "# )"
   ]
  },
  {
   "cell_type": "code",
   "execution_count": 7,
   "id": "54d3d242",
   "metadata": {},
   "outputs": [],
   "source": [
    "# print(document_store.metric_type)\n",
    "# print(document_store.get_document_count())\n",
    "# print(document_store.get_embedding_count())"
   ]
  },
  {
   "cell_type": "code",
   "execution_count": 8,
   "id": "15e54086",
   "metadata": {},
   "outputs": [],
   "source": [
    "#Retriever\n",
    "# from haystack.nodes import EmbeddingRetriever\n",
    "\n",
    "# retriever = EmbeddingRetriever(\n",
    "#     document_store=document_store,\n",
    "#     embedding_model=\"flax-sentence-embeddings/all_datasets_v3_mpnet-base\",\n",
    "#     model_format=\"sentence_transformers\"\n",
    "# )"
   ]
  },
  {
   "cell_type": "code",
   "execution_count": 9,
   "id": "55ca9e44",
   "metadata": {},
   "outputs": [],
   "source": [
    "from haystack.document_stores import FAISSDocumentStore\n",
    "\n",
    "document_store = FAISSDocumentStore(embedding_dim=128, faiss_index_factory_str=\"Flat\")"
   ]
  },
  {
   "cell_type": "markdown",
   "id": "10704bf8",
   "metadata": {},
   "source": [
    "## Updating document store with docs from th given data path"
   ]
  },
  {
   "cell_type": "code",
   "execution_count": 21,
   "id": "c8ff667a",
   "metadata": {},
   "outputs": [],
   "source": [
    "from haystack.utils import convert_files_to_docs, fetch_archive_from_http, clean_wiki_text\n",
    "\n",
    "\n",
    "# Let's first get some files that we want to use\n",
    "# doc_dir = \"data/tutorial12\"\n",
    "# s3_url = \"https://s3.eu-central-1.amazonaws.com/deepset.ai-farm-qa/datasets/documents/wiki_gameofthrones_txt12.zip\"\n",
    "# fetch_archive_from_http(url=s3_url, output_dir=doc_dir)\n",
    "\n",
    "docs = [text2, text3,text4]\n",
    "# Convert files to dicts\n",
    "# docs = convert_files_to_docs(dir_path=doc_dir, clean_func=clean_wiki_text, split_paragraphs=True)\n",
    "\n",
    "# Now, let's write the dicts containing documents to our DB.\n",
    "# document_store.write_documents(docs)"
   ]
  },
  {
   "cell_type": "code",
   "execution_count": 22,
   "id": "b21a8a38",
   "metadata": {},
   "outputs": [
    {
     "name": "stderr",
     "output_type": "stream",
     "text": [
      "Calling DocumentStore.update_embeddings() on an empty index\n"
     ]
    }
   ],
   "source": [
    "from haystack.nodes import DensePassageRetriever\n",
    "\n",
    "retriever = DensePassageRetriever(\n",
    "    document_store=document_store,\n",
    "    query_embedding_model=\"vblagoje/dpr-question_encoder-single-lfqa-wiki\",\n",
    "    passage_embedding_model=\"vblagoje/dpr-ctx_encoder-single-lfqa-wiki\",\n",
    ")\n",
    "document_store.update_embeddings(retriever)"
   ]
  },
  {
   "cell_type": "code",
   "execution_count": 42,
   "id": "6c1d9fbf",
   "metadata": {},
   "outputs": [],
   "source": [
    "doc = Document(\n",
    "        \tcontent= text,\n",
    "        \tmeta={\n",
    "            \t\"article_title\": 'article_title',\n",
    "            \t'section_title': 'section_title'\n",
    "        \t}\n",
    "    \t)\n"
   ]
  },
  {
   "cell_type": "code",
   "execution_count": 43,
   "id": "f445acdf",
   "metadata": {},
   "outputs": [
    {
     "name": "stderr",
     "output_type": "stream",
     "text": [
      "You have to provide `duplicate_documents = 'overwrite'` arg and `FAISSDocumentStore` does not support update in existing `faiss_index`.\n",
      "Please call `update_embeddings` method to repopulate `faiss_index`\n",
      "Writing Documents: 10000it [00:00, 424795.57it/s]       \n",
      "Documents Processed: 10000 docs [00:04, 2255.16 docs/s]      \n"
     ]
    }
   ],
   "source": [
    "# retriever.embed_documents([doc])\n",
    "embeds = retriever.embed_documents([doc])\n",
    "doc.embedding = embeds[0]\n",
    "document_store.write_documents([doc],duplicate_documents = 'overwrite' )\n",
    "document_store.update_embeddings(retriever)"
   ]
  },
  {
   "cell_type": "code",
   "execution_count": 44,
   "id": "4ef264e8",
   "metadata": {},
   "outputs": [],
   "source": [
    "from haystack.utils import print_documents\n",
    "from haystack.pipelines import DocumentSearchPipeline\n",
    "\n",
    "# p_retrieval = DocumentSearchPipeline(retriever)\n",
    "# res = p_retrieval.run(query=\"Tell me something about Arya Stark?\", params={\"Retriever\": {\"top_k\": 10}})\n",
    "# print_documents(res, max_text_len=512)"
   ]
  },
  {
   "cell_type": "code",
   "execution_count": 45,
   "id": "d4465102",
   "metadata": {},
   "outputs": [],
   "source": [
    "#Generator\n",
    "\n",
    "from haystack.nodes import Seq2SeqGenerator\n",
    "\n",
    "generator = Seq2SeqGenerator(model_name_or_path=\"vblagoje/bart_lfqa\")"
   ]
  },
  {
   "cell_type": "code",
   "execution_count": 46,
   "id": "36f4175d",
   "metadata": {},
   "outputs": [],
   "source": [
    "#Our QA piline\n",
    "\n",
    "from haystack.pipelines import GenerativeQAPipeline\n",
    "\n",
    "pipe = GenerativeQAPipeline(generator, retriever)"
   ]
  },
  {
   "cell_type": "code",
   "execution_count": 48,
   "id": "457f2c51",
   "metadata": {},
   "outputs": [
    {
     "data": {
      "text/plain": [
       "haystack.pipelines.standard_pipelines.GenerativeQAPipeline"
      ]
     },
     "execution_count": 48,
     "metadata": {},
     "output_type": "execute_result"
    }
   ],
   "source": [
    "type(pipe)"
   ]
  },
  {
   "cell_type": "code",
   "execution_count": 49,
   "id": "8dc3f32e",
   "metadata": {},
   "outputs": [
    {
     "data": {
      "text/plain": [
       "{'query': \"'What is the Latin word for gravitation?\",\n",
       " 'answers': [<Answer {'answer': 'The Latin word for gravity is gravitas, meaning \"weight\".', 'type': 'generative', 'score': None, 'context': None, 'offsets_in_document': None, 'offsets_in_context': None, 'document_ids': ['c2ccbda03f539d216a89bfde483d2200', '2ce1de1b4d6dd8e4564795c955e0b356', '58f7f2368598f86e5772fd49758dfa93'], 'meta': {'doc_scores': [0.5461917926390552, 0.5206973302249435, 0.48826173854387944], 'content': [\"Gravity (from Latin gravitas, meaning 'weight'), or gravitation, is a natural phenomenon by which all things with mass or energy—including planets, stars, galaxies, and even light—are brought toward (or gravitate toward) one another. On Earth, gravity gives weight to physical objects, and the Moon's gravity causes the ocean tides. The gravitational attraction of the original gaseous matter present in the Universe caused it to begin coalescing and forming stars and caused the stars to group together into galaxies, so gravity is responsible for many of the large-scale structures in the Universe. Gravity has an infinite range, although its effects become increasingly weaker as objects get further away\", \"Python is an interpreted, high-level, general-purpose programming language. Created by Guido van Rossum and first released in 1991, Python's design philosophy emphasizes code readability with its notable use of significant whitespace.\", 'Forrest Gump is a 1994 American comedy-drama film directed by Robert Zemeckis and written by Eric Roth. It is based on the 1986 novel of the same name by Winston Groom and stars Tom Hanks, Robin Wright, Gary Sinise, Mykelti Williamson and Sally Field. The story depicts several decades in the life of Forrest Gump (Hanks), a slow-witted but kind-hearted man from Alabama who witnesses and unwittingly influences several defining historical events in the 20th century United States. The film differs substantially from the novel.'], 'titles': ['', '', ''], 'doc_metas': [{'article_title': 'article_title', 'section_title': 'section_title', 'vector_id': '2'}, {'article_title': 'article_title', 'section_title': 'section_title', 'vector_id': '0'}, {'article_title': 'article_title', 'section_title': 'section_title', 'vector_id': '1'}], 'prompt': None}}>],\n",
       " 'documents': [<Document: {'content': \"Gravity (from Latin gravitas, meaning 'weight'), or gravitation, is a natural phenomenon by which all things with mass or energy—including planets, stars, galaxies, and even light—are brought toward (or gravitate toward) one another. On Earth, gravity gives weight to physical objects, and the Moon's gravity causes the ocean tides. The gravitational attraction of the original gaseous matter present in the Universe caused it to begin coalescing and forming stars and caused the stars to group together into galaxies, so gravity is responsible for many of the large-scale structures in the Universe. Gravity has an infinite range, although its effects become increasingly weaker as objects get further away\", 'content_type': 'text', 'score': 0.5461917926390552, 'meta': {'article_title': 'article_title', 'section_title': 'section_title', 'vector_id': '2'}, 'id_hash_keys': ['content'], 'embedding': None, 'id': 'c2ccbda03f539d216a89bfde483d2200'}>,\n",
       "  <Document: {'content': \"Python is an interpreted, high-level, general-purpose programming language. Created by Guido van Rossum and first released in 1991, Python's design philosophy emphasizes code readability with its notable use of significant whitespace.\", 'content_type': 'text', 'score': 0.5206973302249435, 'meta': {'article_title': 'article_title', 'section_title': 'section_title', 'vector_id': '0'}, 'id_hash_keys': ['content'], 'embedding': None, 'id': '2ce1de1b4d6dd8e4564795c955e0b356'}>,\n",
       "  <Document: {'content': 'Forrest Gump is a 1994 American comedy-drama film directed by Robert Zemeckis and written by Eric Roth. It is based on the 1986 novel of the same name by Winston Groom and stars Tom Hanks, Robin Wright, Gary Sinise, Mykelti Williamson and Sally Field. The story depicts several decades in the life of Forrest Gump (Hanks), a slow-witted but kind-hearted man from Alabama who witnesses and unwittingly influences several defining historical events in the 20th century United States. The film differs substantially from the novel.', 'content_type': 'text', 'score': 0.48826173854387944, 'meta': {'article_title': 'article_title', 'section_title': 'section_title', 'vector_id': '1'}, 'id_hash_keys': ['content'], 'embedding': None, 'id': '58f7f2368598f86e5772fd49758dfa93'}>],\n",
       " 'root_node': 'Query',\n",
       " 'params': {'Retriever': {'top_k': 3}},\n",
       " 'node_id': 'Generator'}"
      ]
     },
     "execution_count": 49,
     "metadata": {},
     "output_type": "execute_result"
    }
   ],
   "source": [
    "pipe.run(\n",
    "    query=\"'What is the Latin word for gravitation?\", params={\"Retriever\": {\"top_k\": 3}}\n",
    ")"
   ]
  },
  {
   "cell_type": "markdown",
   "id": "8f9f270c",
   "metadata": {},
   "source": [
    "### Extracting Text from PDF"
   ]
  },
  {
   "cell_type": "code",
   "execution_count": 10,
   "id": "4aad7244",
   "metadata": {},
   "outputs": [],
   "source": [
    "def text_from_pdf(path: str) -> str:\n",
    "    reader = PdfReader(path)\n",
    "    pages = reader.pages\n",
    "    doc = str()\n",
    "    for page in pages:\n",
    "        doc = doc + page.extract_text() + \" \"\n",
    "    return doc"
   ]
  },
  {
   "cell_type": "code",
   "execution_count": 12,
   "id": "cb4f1e5a",
   "metadata": {},
   "outputs": [],
   "source": [
    "def text_from_pdf_qg(path: str, nlp):\n",
    "    reader = PdfReader(path)\n",
    "    pages = reader.pages\n",
    "    questions = []\n",
    "    for page in pages:\n",
    "        doc = page.extract_text()\n",
    "        quest = nlp(doc)\n",
    "        for item in quest:\n",
    "            questions.append(item)\n",
    "    return questions"
   ]
  },
  {
   "cell_type": "markdown",
   "id": "8c01e804",
   "metadata": {},
   "source": [
    "### Updating our document store"
   ]
  },
  {
   "cell_type": "code",
   "execution_count": 13,
   "id": "3e972751",
   "metadata": {},
   "outputs": [],
   "source": [
    "def update_doc_store(doc: str, article_title : str = \"None\", section_title : str = \"None\" ):\n",
    "    docs = []\n",
    "    doc = Document(\n",
    "            content= doc,\n",
    "            meta={\n",
    "                \"article_title\": article_title,\n",
    "                'section_title': section_title\n",
    "            }\n",
    "        )\n",
    "    docs.append(doc)\n",
    "    embeds = retriever.embed_documents(docs)\n",
    "    doc.embedding = embeds[0]\n",
    "    document_store.write_documents(docs)"
   ]
  },
  {
   "cell_type": "markdown",
   "id": "d04fc207",
   "metadata": {},
   "source": [
    "## QG"
   ]
  },
  {
   "cell_type": "code",
   "execution_count": 6,
   "id": "dc2d64d1",
   "metadata": {},
   "outputs": [],
   "source": [
    "nlp = pipeline(\"e2e-qg\")"
   ]
  },
  {
   "cell_type": "code",
   "execution_count": 7,
   "id": "1e4fb855",
   "metadata": {},
   "outputs": [
    {
     "data": {
      "text/plain": [
       "['What is the Latin word for gravitation?',\n",
       " 'What does gravity give weight to on Earth?',\n",
       " \"The moon's gravity causes what?\",\n",
       " 'Gravity is responsible for many of the large-scale structures in what universe?']"
      ]
     },
     "execution_count": 7,
     "metadata": {},
     "output_type": "execute_result"
    }
   ],
   "source": [
    "nlp(text2)"
   ]
  },
  {
   "cell_type": "markdown",
   "id": "748e99f7",
   "metadata": {},
   "source": [
    "## Testing by pdf files"
   ]
  },
  {
   "cell_type": "code",
   "execution_count": 19,
   "id": "d5dc9e49",
   "metadata": {},
   "outputs": [],
   "source": [
    "file_name = \"01.pdf\"\n",
    "#doc = text_from_pdf(file_name)"
   ]
  },
  {
   "cell_type": "code",
   "execution_count": 20,
   "id": "cdc4f873",
   "metadata": {},
   "outputs": [],
   "source": [
    "questions = text_from_pdf_qg(file_name,nlp)"
   ]
  },
  {
   "cell_type": "code",
   "execution_count": 21,
   "id": "670371f0",
   "metadata": {},
   "outputs": [
    {
     "data": {
      "text/plain": [
       "['What is the name of the group that is trading as the Taylor & Francis Group?',\n",
       " 'What is a name for the company that is based in China?',\n",
       " 'How many AGB equations were developed after all necessary biomass calculations were done?',\n",
       " 'What is the name of the group that is widely distributed in dry forest and forest margins?',\n",
       " 'Which species has many economic and ecological functions, but its environmental uses are less assessed?',\n",
       " 'The best models selected have higher R2-adj and lower residual standard error?',\n",
       " 'What is an important species in evergreen montane scrub?',\n",
       " 'What is edible and sometimes used to extract oil?',\n",
       " 'Where are leaves, twigs, and wood used to fumigate pots for milk, TELLA, and TEJ?',\n",
       " 'What are the equa- tions developed to estimate biomass components of trees and shrubs in various ecosystems in the world?',\n",
       " 'What can the choice of the allometric model overestimate the greenhouse gas by 40% in the Congo Basin?',\n",
       " 'The site- and species-specific equation has great significance as the carbon balance assessment is influenced by what?',\n",
       " 'Where is Dallo Mana located?',\n",
       " 'How many parts were divided into: measuring trimmed fresh biomass?',\n",
       " 'What was used to determine the diameter at the base of the branch?',\n",
       " 'The fresh bio mass of the leaves from the trimmed branch Btrimmed fresh leaf ) and the fresh biomass of the wood from what?',\n",
       " 'What was measured indirectly as nondestructive?',\n",
       " 'What were the different branches in the trimmed tree processed differently from?',\n",
       " 'How was the basal dia-meter measured for the small branches?',\n",
       " 'The volume Viof each section iwas obtained by mea- suring its diameter and its length?',\n",
       " 'What software was developed by single and multiple linear regression re lations?',\n",
       " 'What was carried out using various goodness-of- fit statistics?',\n",
       " 'How was the best one selected based on the statistics calculated for each equation?',\n",
       " 'What was strongly correlated with DBH and height?',\n",
       " 'What is the best model among indivi- dually analyzed independent parameters?',\n",
       " 'Who explained the dependent variable by 93.6%?',\n",
       " 'What factors are affected by distribution among components of woody plants?',\n",
       " 'What are the most important factors for the estimation of biomass?',\n",
       " 'How are allometric equations being strongly differ- ent for different tree species within the same climatic zones?',\n",
       " 'How many allometric equations were developed with a high significance for O.europaea L. subsp. cuspidata?',\n",
       " 'What is a vast evergreen montane forest in southeastern Ethiopia and similar forest types in the country?',\n",
       " 'Where is the measured one found based on semi-destructive procedural method for equation development?',\n",
       " 'How many trees were measured in the field in Mana Angetu Forest?',\n",
       " 'What are the allometric equations for all of them for better assess- ment of carbon stock?',\n",
       " \"What is the name of the 'Allometric Relationships of Different Tree Species and Stand Aboveground Biomass in the Gomer Laurel Forest?\",\n",
       " 'What year did Legesse, N. use Allometric Equations for Predicting Above- Ground Tree Biomass in Mixed Secondary Forests?',\n",
       " 'What is Bambusa stenostachya?',\n",
       " 'How many individuals of Olea europaea L. subsp. cuspidata were used in this study?',\n",
       " 'What was the name of the study that used aboveground biomass?',\n",
       " 'How many people were in the study of the AGB BGB TB DBH?']"
      ]
     },
     "execution_count": 21,
     "metadata": {},
     "output_type": "execute_result"
    }
   ],
   "source": [
    "questions"
   ]
  },
  {
   "cell_type": "code",
   "execution_count": 23,
   "id": "d0251ece",
   "metadata": {},
   "outputs": [
    {
     "data": {
      "text/plain": [
       "' my email addres is   jj'"
      ]
     },
     "execution_count": 23,
     "metadata": {},
     "output_type": "execute_result"
    }
   ],
   "source": [
    "import re\n",
    "match = \" my email addres is anouar.taizoukt@um6p.ma anouar@gmail.com jj\"\n",
    "match = re.sub(r'[\\w.+-]+@[\\w-]+\\.[\\w.-]+',\"\" ,match)\n",
    "match"
   ]
  },
  {
   "cell_type": "code",
   "execution_count": 119,
   "id": "05d4c247",
   "metadata": {},
   "outputs": [
    {
     "data": {
      "application/vnd.jupyter.widget-view+json": {
       "model_id": "c15ead2c56d447ab8540e06e4b07c6db",
       "version_major": 2,
       "version_minor": 0
      },
      "text/plain": [
       "Batches:   0%|          | 0/1 [00:00<?, ?it/s]"
      ]
     },
     "metadata": {},
     "output_type": "display_data"
    },
    {
     "data": {
      "application/vnd.jupyter.widget-view+json": {
       "model_id": "e0898105c85d4036b1b28ec728786f58",
       "version_major": 2,
       "version_minor": 0
      },
      "text/plain": [
       "Writing Documents:   0%|          | 0/1 [00:00<?, ?it/s]"
      ]
     },
     "metadata": {},
     "output_type": "display_data"
    }
   ],
   "source": [
    "update_doc_store(doc)"
   ]
  },
  {
   "cell_type": "code",
   "execution_count": 120,
   "id": "124656c7",
   "metadata": {},
   "outputs": [
    {
     "name": "stdout",
     "output_type": "stream",
     "text": [
      "21504\n"
     ]
    }
   ],
   "source": [
    "print(document_store.get_embedding_count())"
   ]
  },
  {
   "cell_type": "code",
   "execution_count": 40,
   "id": "8633c92e",
   "metadata": {},
   "outputs": [
    {
     "data": {
      "application/vnd.jupyter.widget-view+json": {
       "model_id": "450799c275c34d909b6869d84441667c",
       "version_major": 2,
       "version_minor": 0
      },
      "text/plain": [
       "Batches:   0%|          | 0/1 [00:00<?, ?it/s]"
      ]
     },
     "metadata": {},
     "output_type": "display_data"
    },
    {
     "name": "stdout",
     "output_type": "stream",
     "text": [
      "\n",
      "Query: The moon's gravity causes what?\n",
      "Answers:\n",
      "[{'answer': \"The Moon's gravity causes the tides on the surface of the Earth.\"}]\n"
     ]
    }
   ],
   "source": [
    "result = pipe.run(\n",
    "    query=\"The moon's gravity causes what?\",\n",
    "    params={\n",
    "        \"Retriever\": {\"top_k\": 3},\n",
    "        \"Generator\": {\"top_k\": 1}\n",
    "    }\n",
    ")\n",
    "\n",
    "print_answers(result, details=\"minimum\")"
   ]
  },
  {
   "cell_type": "code",
   "execution_count": 47,
   "id": "731ec7fb",
   "metadata": {},
   "outputs": [
    {
     "data": {
      "text/plain": [
       "\"The Moon's gravity causes the tides on the surface of the Earth.\""
      ]
     },
     "execution_count": 47,
     "metadata": {},
     "output_type": "execute_result"
    }
   ],
   "source": [
    "answer_dic = result[\"answers\"][0].to_dict()\n",
    "answer_dic[\"answer\"]"
   ]
  },
  {
   "cell_type": "code",
   "execution_count": 123,
   "id": "cfab8b98",
   "metadata": {},
   "outputs": [
    {
     "name": "stdout",
     "output_type": "stream",
     "text": [
      "there is a conspicuous lack of both mathematical theory and controlled experiment, as we know it. These later became decisive factors in forming modern science, and their early application came to be known as classical mechanics.\n",
      "In his Elementa super demonstrationem ponderum, medieval mathematician Jordanus de Nemore introduced the concept of \"positional gravity\" and the use of component forces.\n",
      "The first published causal explanation of the motions of planets was Johannes Kepler's Astronomia nova, published in 1609. He concluded, based on Tycho Brahe's observations on the orbit of Mars, that the planet's orbits were ellipses. This break with ancient thought was happening\n",
      "---\n",
      "the rotation axis of the Earth; this much smaller effect is due to the uneven distribution of the Earth's mass. To make computations feasible, scientists defined ellipsoids of revolution; a given ellipsoid would be a good compromise for measurements in a given area, such as a country or continent. The difference between the direction of a plumb line or vertical, and a line perpendicular to the surface of the ellipsoid of revolution—a normal to said ellipsoid—at a particular observatory, is the deflection of the vertical.\n",
      "When the Airy transit circle was built, a mercury basin was used to align the telescope\n",
      "---\n"
     ]
    }
   ],
   "source": [
    "for doc in result['documents'][1:]:\n",
    "    print(doc.content, end='\\n---\\n')"
   ]
  },
  {
   "cell_type": "code",
   "execution_count": null,
   "id": "f05df0b2",
   "metadata": {},
   "outputs": [],
   "source": []
  }
 ],
 "metadata": {
  "kernelspec": {
   "display_name": "Python 3.10.4 ('yassine': venv)",
   "language": "python",
   "name": "python3"
  },
  "language_info": {
   "codemirror_mode": {
    "name": "ipython",
    "version": 3
   },
   "file_extension": ".py",
   "mimetype": "text/x-python",
   "name": "python",
   "nbconvert_exporter": "python",
   "pygments_lexer": "ipython3",
   "version": "3.9.5"
  },
  "vscode": {
   "interpreter": {
    "hash": "3d5886c56f8649370fa59431c7c538210a3937cf60fe1d532c97df7c13eccb30"
   }
  }
 },
 "nbformat": 4,
 "nbformat_minor": 5
}
